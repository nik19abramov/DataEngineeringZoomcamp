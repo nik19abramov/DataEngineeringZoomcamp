{
 "cells": [
  {
   "cell_type": "markdown",
   "id": "12786f35",
   "metadata": {},
   "source": [
    "## Question 1: Install Spark and PySpark"
   ]
  },
  {
   "cell_type": "code",
   "execution_count": 1,
   "id": "366aa718",
   "metadata": {},
   "outputs": [],
   "source": [
    "import pyspark\n",
    "import findspark\n",
    "import pandas as pd\n",
    "findspark.init()\n"
   ]
  },
  {
   "cell_type": "code",
   "execution_count": 2,
   "id": "dda7d2fb",
   "metadata": {},
   "outputs": [
    {
     "name": "stderr",
     "output_type": "stream",
     "text": [
      "25/02/26 15:00:02 WARN Utils: Your hostname, MacBook-Pro-Nikolay.local resolves to a loopback address: 127.0.0.1; using 192.168.0.150 instead (on interface en0)\n",
      "25/02/26 15:00:02 WARN Utils: Set SPARK_LOCAL_IP if you need to bind to another address\n",
      "Setting default log level to \"WARN\".\n",
      "To adjust logging level use sc.setLogLevel(newLevel). For SparkR, use setLogLevel(newLevel).\n",
      "25/02/26 15:00:03 WARN NativeCodeLoader: Unable to load native-hadoop library for your platform... using builtin-java classes where applicable\n"
     ]
    },
    {
     "name": "stdout",
     "output_type": "stream",
     "text": [
      "The PySpark 3.5.4 version is running...\n"
     ]
    }
   ],
   "source": [
    "from pyspark.sql import SparkSession\n",
    "\n",
    "spark = SparkSession.builder.master(\"local[1]\") \\\n",
    "                    .appName('test-spark') \\\n",
    "                    .getOrCreate()\n",
    "\n",
    "print(f'The PySpark {spark.version} version is running...')"
   ]
  },
  {
   "cell_type": "code",
   "execution_count": 20,
   "id": "d1d38c09",
   "metadata": {},
   "outputs": [
    {
     "name": "stdout",
     "output_type": "stream",
     "text": [
      "Untitled.ipynb                  yellow_tripdata_2024-10.parquet\r\n"
     ]
    }
   ],
   "source": [
    "!ls"
   ]
  },
  {
   "cell_type": "code",
   "execution_count": 46,
   "id": "311c21dd",
   "metadata": {},
   "outputs": [],
   "source": [
    "from pyspark.sql import types"
   ]
  },
  {
   "cell_type": "code",
   "execution_count": 47,
   "id": "24880324",
   "metadata": {},
   "outputs": [
    {
     "data": {
      "text/plain": [
       "StructType([StructField('VendorID', IntegerType(), True), StructField('tpep_pickup_datetime', TimestampNTZType(), True), StructField('tpep_dropoff_datetime', TimestampNTZType(), True), StructField('passenger_count', LongType(), True), StructField('trip_distance', DoubleType(), True), StructField('RatecodeID', LongType(), True), StructField('store_and_fwd_flag', StringType(), True), StructField('PULocationID', IntegerType(), True), StructField('DOLocationID', IntegerType(), True), StructField('payment_type', LongType(), True), StructField('fare_amount', DoubleType(), True), StructField('extra', DoubleType(), True), StructField('mta_tax', DoubleType(), True), StructField('tip_amount', DoubleType(), True), StructField('tolls_amount', DoubleType(), True), StructField('improvement_surcharge', DoubleType(), True), StructField('total_amount', DoubleType(), True), StructField('congestion_surcharge', DoubleType(), True), StructField('Airport_fee', DoubleType(), True)])"
      ]
     },
     "execution_count": 47,
     "metadata": {},
     "output_type": "execute_result"
    }
   ],
   "source": [
    "df.schema"
   ]
  },
  {
   "cell_type": "markdown",
   "id": "2ade3724",
   "metadata": {},
   "source": [
    "## Question 2: Yellow October 2024"
   ]
  },
  {
   "cell_type": "code",
   "execution_count": 15,
   "id": "d581777e",
   "metadata": {
    "scrolled": true
   },
   "outputs": [
    {
     "name": "stdout",
     "output_type": "stream",
     "text": [
      "--2025-02-25 16:53:22--  https://d37ci6vzurychx.cloudfront.net/trip-data/yellow_tripdata_2024-10.parquet\n",
      "Resolving d37ci6vzurychx.cloudfront.net (d37ci6vzurychx.cloudfront.net)... 2600:9000:2759:ca00:b:20a5:b140:21, 2600:9000:2759:b000:b:20a5:b140:21, 2600:9000:2759:800:b:20a5:b140:21, ...\n",
      "Connecting to d37ci6vzurychx.cloudfront.net (d37ci6vzurychx.cloudfront.net)|2600:9000:2759:ca00:b:20a5:b140:21|:443... connected.\n",
      "HTTP request sent, awaiting response... 200 OK\n",
      "Length: 64346071 (61M) [binary/octet-stream]\n",
      "Saving to: ‘yellow_tripdata_2024-10.parquet.1’\n",
      "\n",
      "yellow_tripdata_202 100%[===================>]  61.36M  31.9MB/s    in 1.9s    \n",
      "\n",
      "2025-02-25 16:53:24 (31.9 MB/s) - ‘yellow_tripdata_2024-10.parquet.1’ saved [64346071/64346071]\n",
      "\n"
     ]
    }
   ],
   "source": [
    "!wget https://d37ci6vzurychx.cloudfront.net/trip-data/yellow_tripdata_2024-10.parquet"
   ]
  },
  {
   "cell_type": "markdown",
   "id": "df93131b",
   "metadata": {},
   "source": [
    "Repartition the Dataframe to 4 partitions and save it to parquet."
   ]
  },
  {
   "cell_type": "code",
   "execution_count": 5,
   "id": "07792577",
   "metadata": {},
   "outputs": [
    {
     "name": "stderr",
     "output_type": "stream",
     "text": [
      "                                                                                \r"
     ]
    }
   ],
   "source": [
    "df = spark.read\\\n",
    ".option(\"header\", \"true\") \\\n",
    ".parquet(\"yellow_tripdata_2024-10.parquet\")"
   ]
  },
  {
   "cell_type": "code",
   "execution_count": 7,
   "id": "010ab667",
   "metadata": {},
   "outputs": [
    {
     "name": "stderr",
     "output_type": "stream",
     "text": [
      "                                                                                \r"
     ]
    }
   ],
   "source": [
    "df = df.repartition(4)\n",
    "df.write.parquet('yellow/', mode = 'overwrite')"
   ]
  },
  {
   "cell_type": "markdown",
   "id": "e721340b",
   "metadata": {},
   "source": [
    "What is the average size of the Parquet (ending with .parquet extension) Files that were created (in MB)? Select the answer which most closely matches."
   ]
  },
  {
   "cell_type": "code",
   "execution_count": 8,
   "id": "2f8a798d",
   "metadata": {},
   "outputs": [
    {
     "name": "stdout",
     "output_type": "stream",
     "text": [
      "total 197120\r\n",
      "-rw-r--r--  1 nikabramov  staff     0B Feb 26 15:01 _SUCCESS\r\n",
      "-rw-r--r--  1 nikabramov  staff    24M Feb 26 15:01 part-00000-aedc014a-73c8-434a-89bc-4cc6ce144e0d-c000.snappy.parquet\r\n",
      "-rw-r--r--  1 nikabramov  staff    24M Feb 26 15:01 part-00001-aedc014a-73c8-434a-89bc-4cc6ce144e0d-c000.snappy.parquet\r\n",
      "-rw-r--r--  1 nikabramov  staff    24M Feb 26 15:01 part-00002-aedc014a-73c8-434a-89bc-4cc6ce144e0d-c000.snappy.parquet\r\n",
      "-rw-r--r--  1 nikabramov  staff    24M Feb 26 15:01 part-00003-aedc014a-73c8-434a-89bc-4cc6ce144e0d-c000.snappy.parquet\r\n"
     ]
    }
   ],
   "source": [
    "!ls -lh yellow"
   ]
  },
  {
   "cell_type": "markdown",
   "id": "1fac8cf5",
   "metadata": {},
   "source": [
    "## Question 3: Count records"
   ]
  },
  {
   "cell_type": "markdown",
   "id": "585178f2",
   "metadata": {},
   "source": [
    "How many taxi trips were there on the 15th of October?\n",
    "\n"
   ]
  },
  {
   "cell_type": "code",
   "execution_count": 9,
   "id": "07ef35ac",
   "metadata": {},
   "outputs": [
    {
     "name": "stderr",
     "output_type": "stream",
     "text": [
      "/Users/nikabramov/Library/Python/3.12/lib/python/site-packages/pyspark/sql/dataframe.py:329: FutureWarning: Deprecated in 2.0, use createOrReplaceTempView instead.\n",
      "  warnings.warn(\"Deprecated in 2.0, use createOrReplaceTempView instead.\", FutureWarning)\n"
     ]
    }
   ],
   "source": [
    "df.registerTempTable('trips_data')"
   ]
  },
  {
   "cell_type": "code",
   "execution_count": 10,
   "id": "6053a31c",
   "metadata": {},
   "outputs": [
    {
     "name": "stderr",
     "output_type": "stream",
     "text": [
      "                                                                                \r"
     ]
    },
    {
     "name": "stdout",
     "output_type": "stream",
     "text": [
      "+--------------------+--------+\n",
      "|tpep_pickup_datetime|count(1)|\n",
      "+--------------------+--------+\n",
      "|          2024-10-15|  128893|\n",
      "+--------------------+--------+\n",
      "\n"
     ]
    }
   ],
   "source": [
    "spark.sql(\"\"\"\n",
    "SELECT\n",
    "    CAST(tpep_pickup_datetime AS DATE), \n",
    "    COUNT(*)\n",
    "FROM\n",
    "    trips_data\n",
    "WHERE \n",
    "    CAST(tpep_pickup_datetime AS DATE) = '2024-10-15'\n",
    "    --AND fare_amount > 0\n",
    "GROUP BY 1\n",
    "ORDER BY 1\n",
    "    \n",
    "\"\"\").show()"
   ]
  },
  {
   "cell_type": "markdown",
   "id": "2e89b70b",
   "metadata": {},
   "source": [
    "## Question 4: Longest trip"
   ]
  },
  {
   "cell_type": "markdown",
   "id": "a08c3fd0",
   "metadata": {},
   "source": [
    "What is the length of the longest trip in the dataset in hours?"
   ]
  },
  {
   "cell_type": "code",
   "execution_count": 12,
   "id": "97f590c6",
   "metadata": {},
   "outputs": [
    {
     "name": "stderr",
     "output_type": "stream",
     "text": [
      "[Stage 19:===========================================>              (3 + 1) / 4]\r"
     ]
    },
    {
     "name": "stdout",
     "output_type": "stream",
     "text": [
      "+------------+\n",
      "|longest_trip|\n",
      "+------------+\n",
      "|         162|\n",
      "+------------+\n",
      "\n"
     ]
    },
    {
     "name": "stderr",
     "output_type": "stream",
     "text": [
      "                                                                                \r"
     ]
    }
   ],
   "source": [
    "spark.sql(\"\"\"\n",
    "SELECT\n",
    "    MAX(DATE_DIFF(HOUR, tpep_pickup_datetime, tpep_dropoff_datetime)) as longest_trip\n",
    "FROM\n",
    "    trips_data    \n",
    "\"\"\").show()"
   ]
  },
  {
   "cell_type": "markdown",
   "id": "c3a31874",
   "metadata": {},
   "source": [
    "## Question 5: User Interface"
   ]
  },
  {
   "cell_type": "markdown",
   "id": "303464d2",
   "metadata": {},
   "source": [
    "Spark’s User Interface which shows the application's dashboard runs on which local port?\n",
    "\n",
    "- 4040"
   ]
  },
  {
   "cell_type": "markdown",
   "id": "d5c08624",
   "metadata": {},
   "source": [
    "## Question 6: Least frequent pickup location zone"
   ]
  },
  {
   "cell_type": "markdown",
   "id": "0374f07b",
   "metadata": {},
   "source": [
    "Using the zone lookup data and the Yellow October 2024 data, what is the name of the LEAST frequent pickup location Zone?"
   ]
  },
  {
   "cell_type": "code",
   "execution_count": 67,
   "id": "1f5b57dd",
   "metadata": {},
   "outputs": [
    {
     "name": "stdout",
     "output_type": "stream",
     "text": [
      "--2025-02-26 14:51:31--  https://d37ci6vzurychx.cloudfront.net/misc/taxi_zone_lookup.csv\n",
      "Resolving d37ci6vzurychx.cloudfront.net (d37ci6vzurychx.cloudfront.net)... 2600:9000:2759:3800:b:20a5:b140:21, 2600:9000:2759:3c00:b:20a5:b140:21, 2600:9000:2759:a00:b:20a5:b140:21, ...\n",
      "Connecting to d37ci6vzurychx.cloudfront.net (d37ci6vzurychx.cloudfront.net)|2600:9000:2759:3800:b:20a5:b140:21|:443... connected.\n",
      "HTTP request sent, awaiting response... 200 OK\n",
      "Length: 12331 (12K) [text/csv]\n",
      "Saving to: ‘taxi_zone_lookup.csv’\n",
      "\n",
      "taxi_zone_lookup.cs 100%[===================>]  12.04K  --.-KB/s    in 0s      \n",
      "\n",
      "2025-02-26 14:51:31 (77.4 MB/s) - ‘taxi_zone_lookup.csv’ saved [12331/12331]\n",
      "\n"
     ]
    }
   ],
   "source": [
    "!wget https://d37ci6vzurychx.cloudfront.net/misc/taxi_zone_lookup.csv"
   ]
  },
  {
   "cell_type": "code",
   "execution_count": 13,
   "id": "3adecd5e",
   "metadata": {},
   "outputs": [],
   "source": [
    "df_zone_lookup = spark.read \\\n",
    "    .option(\"header\", \"true\")\\\n",
    "    .csv(\"taxi_zone_lookup.csv\")"
   ]
  },
  {
   "cell_type": "code",
   "execution_count": 14,
   "id": "d63138b6",
   "metadata": {},
   "outputs": [],
   "source": [
    "df_zone_lookup.createOrReplaceTempView(\"taxi_zone_lookup\")\n"
   ]
  },
  {
   "cell_type": "code",
   "execution_count": 15,
   "id": "c8e217d9",
   "metadata": {},
   "outputs": [
    {
     "name": "stderr",
     "output_type": "stream",
     "text": [
      "[Stage 27:===========================================>              (3 + 1) / 4]\r"
     ]
    },
    {
     "name": "stdout",
     "output_type": "stream",
     "text": [
      "+--------------------+-------+\n",
      "|                Zone|n_trips|\n",
      "+--------------------+-------+\n",
      "|Governor's Island...|      1|\n",
      "|       Rikers Island|      2|\n",
      "|       Arden Heights|      2|\n",
      "|         Jamaica Bay|      3|\n",
      "| Green-Wood Cemetery|      3|\n",
      "|Charleston/Totten...|      4|\n",
      "|   Rossville/Woodrow|      4|\n",
      "|       West Brighton|      4|\n",
      "|       Port Richmond|      4|\n",
      "|Eltingville/Annad...|      4|\n",
      "|         Great Kills|      6|\n",
      "|        Crotona Park|      6|\n",
      "|Heartland Village...|      7|\n",
      "|     Mariners Harbor|      7|\n",
      "|Saint George/New ...|      9|\n",
      "|             Oakwood|      9|\n",
      "|       Broad Channel|     10|\n",
      "|New Dorp/Midland ...|     10|\n",
      "|         Westerleigh|     12|\n",
      "|     Pelham Bay Park|     12|\n",
      "+--------------------+-------+\n",
      "only showing top 20 rows\n",
      "\n"
     ]
    },
    {
     "name": "stderr",
     "output_type": "stream",
     "text": [
      "                                                                                \r"
     ]
    }
   ],
   "source": [
    "spark.sql(\"\"\"\n",
    "SELECT\n",
    "    Zone\n",
    "    , COUNT(*) as n_trips\n",
    "FROM\n",
    "    trips_data as t\n",
    "LEFT JOIN\n",
    "    taxi_zone_lookup as tzl\n",
    "ON\n",
    "    t.PULocationID = tzl.LocationID\n",
    "GROUP BY 1\n",
    "ORDER BY 2 ASC\n",
    "\n",
    "\"\"\").show()"
   ]
  },
  {
   "cell_type": "code",
   "execution_count": null,
   "id": "d54922a9",
   "metadata": {},
   "outputs": [],
   "source": []
  }
 ],
 "metadata": {
  "kernelspec": {
   "display_name": "Python 3.12",
   "language": "python",
   "name": "py312"
  },
  "language_info": {
   "codemirror_mode": {
    "name": "ipython",
    "version": 3
   },
   "file_extension": ".py",
   "mimetype": "text/x-python",
   "name": "python",
   "nbconvert_exporter": "python",
   "pygments_lexer": "ipython3",
   "version": "3.12.0"
  }
 },
 "nbformat": 4,
 "nbformat_minor": 5
}
