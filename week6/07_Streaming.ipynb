{
 "cells": [
  {
   "cell_type": "markdown",
   "id": "8ec0c585",
   "metadata": {},
   "source": [
    "# 1. Version of Red Panda"
   ]
  },
  {
   "cell_type": "markdown",
   "id": "d49f7f44",
   "metadata": {},
   "source": [
    "```bash\n",
    "docker exec -it redpanda-1 rpk --version\n",
    "rpk version v24.2.18 (rev f9a22d4430)\n",
    "\n",
    "```"
   ]
  },
  {
   "cell_type": "markdown",
   "id": "c4f1c492",
   "metadata": {},
   "source": [
    "# 2. Creating a topic"
   ]
  },
  {
   "cell_type": "markdown",
   "id": "dd686e09",
   "metadata": {},
   "source": [
    "```bash\n",
    "docker exec -it redpanda-1 rpk topic create green-trips\n",
    "\n",
    "\n",
    "TOPIC        STATUS\n",
    "green-trips  OK\n",
    "\n",
    "\n",
    "```"
   ]
  },
  {
   "cell_type": "markdown",
   "id": "0a7f737b",
   "metadata": {},
   "source": [
    "# 3.  Connecting to the Kafka server"
   ]
  },
  {
   "cell_type": "code",
   "execution_count": 1,
   "id": "24fa7909",
   "metadata": {},
   "outputs": [
    {
     "data": {
      "text/plain": [
       "True"
      ]
     },
     "execution_count": 1,
     "metadata": {},
     "output_type": "execute_result"
    }
   ],
   "source": [
    "import json\n",
    "from kafka import KafkaProducer\n",
    "\n",
    "def json_serializer(data):\n",
    "    return json.dumps(data).encode('utf-8')\n",
    "\n",
    "server = 'localhost:9092'\n",
    "\n",
    "producer = KafkaProducer(\n",
    "    bootstrap_servers=[server],\n",
    "    value_serializer=json_serializer\n",
    ")\n",
    "\n",
    "producer.bootstrap_connected()"
   ]
  },
  {
   "cell_type": "markdown",
   "id": "65bd5f28",
   "metadata": {},
   "source": [
    "# 4. Time to send the Trip data"
   ]
  },
  {
   "cell_type": "code",
   "execution_count": 9,
   "id": "1dd171bd",
   "metadata": {},
   "outputs": [
    {
     "name": "stdout",
     "output_type": "stream",
     "text": [
      "Took 152.06 seconds\n"
     ]
    }
   ],
   "source": [
    "import pandas as pd\n",
    "from time import time\n",
    "\n",
    "df = pd.read_csv('green_tripdata_2019-10.csv', usecols=[\n",
    "    'lpep_pickup_datetime',\n",
    "    'lpep_dropoff_datetime',\n",
    "    'PULocationID',\n",
    "    'DOLocationID',\n",
    "    'passenger_count',\n",
    "    'trip_distance',\n",
    "    'tip_amount'\n",
    "])\n",
    "\n",
    "t0 = time()\n",
    "for _, row in df.iterrows():\n",
    "    producer.send('green-trips', value=row.to_dict())\n",
    "producer.flush()\n",
    "t1 = time()\n",
    "took = t1 - t0\n",
    "print(f\"Took {took:.2f} seconds\")"
   ]
  },
  {
   "cell_type": "code",
   "execution_count": 10,
   "id": "d05d2b16",
   "metadata": {},
   "outputs": [
    {
     "data": {
      "text/plain": [
       "(476386, 7)"
      ]
     },
     "execution_count": 10,
     "metadata": {},
     "output_type": "execute_result"
    }
   ],
   "source": [
    "df.shape"
   ]
  },
  {
   "cell_type": "code",
   "execution_count": null,
   "id": "fe516498",
   "metadata": {},
   "outputs": [],
   "source": []
  }
 ],
 "metadata": {
  "kernelspec": {
   "display_name": "Python 3.12",
   "language": "python",
   "name": "py312"
  },
  "language_info": {
   "codemirror_mode": {
    "name": "ipython",
    "version": 3
   },
   "file_extension": ".py",
   "mimetype": "text/x-python",
   "name": "python",
   "nbconvert_exporter": "python",
   "pygments_lexer": "ipython3",
   "version": "3.12.0"
  }
 },
 "nbformat": 4,
 "nbformat_minor": 5
}
